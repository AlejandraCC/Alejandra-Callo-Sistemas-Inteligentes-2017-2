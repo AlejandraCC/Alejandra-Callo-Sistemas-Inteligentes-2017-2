{
 "cells": [
  {
   "cell_type": "markdown",
   "metadata": {},
   "source": [
    "# Linear Regression Practice"
   ]
  },
  {
   "cell_type": "markdown",
   "metadata": {},
   "source": [
    "Adapted from http://www.ritchieng.com/machine-learning-linear-regression/"
   ]
  },
  {
   "cell_type": "markdown",
   "metadata": {},
   "source": [
    "## 1. Reading Data using Panda"
   ]
  },
  {
   "cell_type": "code",
   "execution_count": 1,
   "metadata": {
    "collapsed": true
   },
   "outputs": [],
   "source": [
    "# conventional way to import pandas\n",
    "import pandas as pd\n",
    "import numpy as np\n",
    "import random\n",
    "# calculate MAE using scikit-learn\n",
    "from sklearn import metrics\n",
    "from random import randint"
   ]
  },
  {
   "cell_type": "code",
   "execution_count": 2,
   "metadata": {},
   "outputs": [
    {
     "data": {
      "text/plain": [
       "1    230.1\n",
       "2     44.5\n",
       "3     17.2\n",
       "4    151.5\n",
       "5    180.8\n",
       "Name: TV, dtype: float64"
      ]
     },
     "execution_count": 2,
     "metadata": {},
     "output_type": "execute_result"
    }
   ],
   "source": [
    "# read CSV file directly from a URL and save the results\n",
    "# use .read_csv method and simply pass in the name of the files (local and through a url)\n",
    "# to find out more about this method, click on the url and press shift + tab (twice)\n",
    "# we set the index_col=0\n",
    "data = pd.read_csv('http://www-bcf.usc.edu/~gareth/ISL/Advertising.csv', index_col=0)\n",
    "\n",
    "# display the first 5 rows\n",
    "#data.head()\n",
    "data['TV'].head()"
   ]
  },
  {
   "cell_type": "code",
   "execution_count": 3,
   "metadata": {},
   "outputs": [
    {
     "data": {
      "text/html": [
       "<div>\n",
       "<style>\n",
       "    .dataframe thead tr:only-child th {\n",
       "        text-align: right;\n",
       "    }\n",
       "\n",
       "    .dataframe thead th {\n",
       "        text-align: left;\n",
       "    }\n",
       "\n",
       "    .dataframe tbody tr th {\n",
       "        vertical-align: top;\n",
       "    }\n",
       "</style>\n",
       "<table border=\"1\" class=\"dataframe\">\n",
       "  <thead>\n",
       "    <tr style=\"text-align: right;\">\n",
       "      <th></th>\n",
       "      <th>TV</th>\n",
       "      <th>radio</th>\n",
       "      <th>newspaper</th>\n",
       "      <th>sales</th>\n",
       "    </tr>\n",
       "  </thead>\n",
       "  <tbody>\n",
       "    <tr>\n",
       "      <th>196</th>\n",
       "      <td>38.2</td>\n",
       "      <td>3.7</td>\n",
       "      <td>13.8</td>\n",
       "      <td>7.6</td>\n",
       "    </tr>\n",
       "    <tr>\n",
       "      <th>197</th>\n",
       "      <td>94.2</td>\n",
       "      <td>4.9</td>\n",
       "      <td>8.1</td>\n",
       "      <td>9.7</td>\n",
       "    </tr>\n",
       "    <tr>\n",
       "      <th>198</th>\n",
       "      <td>177.0</td>\n",
       "      <td>9.3</td>\n",
       "      <td>6.4</td>\n",
       "      <td>12.8</td>\n",
       "    </tr>\n",
       "    <tr>\n",
       "      <th>199</th>\n",
       "      <td>283.6</td>\n",
       "      <td>42.0</td>\n",
       "      <td>66.2</td>\n",
       "      <td>25.5</td>\n",
       "    </tr>\n",
       "    <tr>\n",
       "      <th>200</th>\n",
       "      <td>232.1</td>\n",
       "      <td>8.6</td>\n",
       "      <td>8.7</td>\n",
       "      <td>13.4</td>\n",
       "    </tr>\n",
       "  </tbody>\n",
       "</table>\n",
       "</div>"
      ],
      "text/plain": [
       "        TV  radio  newspaper  sales\n",
       "196   38.2    3.7       13.8    7.6\n",
       "197   94.2    4.9        8.1    9.7\n",
       "198  177.0    9.3        6.4   12.8\n",
       "199  283.6   42.0       66.2   25.5\n",
       "200  232.1    8.6        8.7   13.4"
      ]
     },
     "execution_count": 3,
     "metadata": {},
     "output_type": "execute_result"
    }
   ],
   "source": [
    "# display the last 5 rows\n",
    "data.tail()"
   ]
  },
  {
   "cell_type": "code",
   "execution_count": 4,
   "metadata": {},
   "outputs": [
    {
     "data": {
      "text/plain": [
       "(200, 4)"
      ]
     },
     "execution_count": 4,
     "metadata": {},
     "output_type": "execute_result"
    }
   ],
   "source": [
    "# check the shape of the DataFrame (rows, columns)\n",
    "# there are 200 rows x 4 columns\n",
    "data.shape"
   ]
  },
  {
   "cell_type": "markdown",
   "metadata": {},
   "source": [
    "What are the features?\n",
    "\n",
    "- **TV**: advertising dollars spent on TV for a single product in a given market (in thousands of dollars)\n",
    "- **Radio**: advertising dollars spent on Radio\n",
    "- **Newspaper**: advertising dollars spent on Newspaper\n",
    "What is the response?\n",
    "\n",
    "- **Sales**: sales of a single product in a given market (in thousands of items)\n",
    "\n",
    "What else do we know?\n",
    "\n",
    "Because the response variable is continuous, this is a **regression problem**.\n",
    "There are 200 observations (represented by the rows), and each observation is a single market.\n"
   ]
  },
  {
   "cell_type": "markdown",
   "metadata": {},
   "source": [
    "## 2. Visualizing Data"
   ]
  },
  {
   "cell_type": "markdown",
   "metadata": {},
   "source": [
    "- Seaborn: Python library for statistical data visualization built on top of Matplotlib\n",
    "- Anaconda users: run conda install seaborn from the command line"
   ]
  },
  {
   "cell_type": "code",
   "execution_count": 5,
   "metadata": {
    "collapsed": true
   },
   "outputs": [],
   "source": [
    "# conventional way to import seaborn\n",
    "import seaborn as sns\n",
    "\n",
    "# allow plots to appear within the notebook\n",
    "%matplotlib inline"
   ]
  },
  {
   "cell_type": "code",
   "execution_count": 6,
   "metadata": {},
   "outputs": [
    {
     "data": {
      "text/plain": [
       "<seaborn.axisgrid.PairGrid at 0xc850cc0>"
      ]
     },
     "execution_count": 6,
     "metadata": {},
     "output_type": "execute_result"
    },
    {
     "data": {
      "image/png": "[encoded data removed]",
      "text/plain": [
       "<matplotlib.figure.Figure at 0xc850cf8>"
      ]
     },
     "metadata": {},
     "output_type": "display_data"
    }
   ],
   "source": [
    "# visualize the relationship between the features and the response using scatterplots\n",
    "# this produces pairs of scatterplot as shown\n",
    "# use aspect= to control the size of the graphs\n",
    "# use kind='reg' to plot linear regression on the graph\n",
    "sns.pairplot(data, x_vars=['TV', 'radio', 'newspaper'], y_vars='sales', size=7, aspect=0.7, kind='reg')"
   ]
  },
  {
   "cell_type": "markdown",
   "metadata": {
    "collapsed": true
   },
   "source": [
    "Linear regression\n",
    "- Strong relationship between TV ads and sales\n",
    "- Weak relationship between Radio ads and sales\n",
    "- Very weak to no relationship between Newspaper ads and sales"
   ]
  },
  {
   "cell_type": "markdown",
   "metadata": {},
   "source": [
    "## 3. Computing Linear Regression (Scikit-learn)"
   ]
  },
  {
   "cell_type": "markdown",
   "metadata": {},
   "source": [
    "## Form of linear regression\n",
    "$$y=\\theta_0+\\theta_1x_1+\\theta_2x_2+...+\\theta_nx_n$$\n",
    "- $y$  is the response\n",
    "- $\\theta_0$  is the intercept\n",
    "- In this case:\n",
    "$$y=\\theta_0+\\theta_1\\times TV+\\theta_2\\times Radio+\\theta_3 \\times Newspaper$$\n"
   ]
  },
  {
   "cell_type": "markdown",
   "metadata": {},
   "source": [
    "scikit-learn expects X (feature matrix) and y (response vector) to be NumPy arrays\n",
    "However, pandas is built on top of NumPy\n",
    "Thus, X can be a pandas DataFrame (matrix) and y can be a pandas Series (vector)"
   ]
  },
  {
   "cell_type": "code",
   "execution_count": 7,
   "metadata": {},
   "outputs": [
    {
     "data": {
      "text/html": [
       "<div>\n",
       "<style>\n",
       "    .dataframe thead tr:only-child th {\n",
       "        text-align: right;\n",
       "    }\n",
       "\n",
       "    .dataframe thead th {\n",
       "        text-align: left;\n",
       "    }\n",
       "\n",
       "    .dataframe tbody tr th {\n",
       "        vertical-align: top;\n",
       "    }\n",
       "</style>\n",
       "<table border=\"1\" class=\"dataframe\">\n",
       "  <thead>\n",
       "    <tr style=\"text-align: right;\">\n",
       "      <th></th>\n",
       "      <th>TV</th>\n",
       "      <th>radio</th>\n",
       "      <th>newspaper</th>\n",
       "    </tr>\n",
       "  </thead>\n",
       "  <tbody>\n",
       "    <tr>\n",
       "      <th>1</th>\n",
       "      <td>230.1</td>\n",
       "      <td>37.8</td>\n",
       "      <td>69.2</td>\n",
       "    </tr>\n",
       "    <tr>\n",
       "      <th>2</th>\n",
       "      <td>44.5</td>\n",
       "      <td>39.3</td>\n",
       "      <td>45.1</td>\n",
       "    </tr>\n",
       "    <tr>\n",
       "      <th>3</th>\n",
       "      <td>17.2</td>\n",
       "      <td>45.9</td>\n",
       "      <td>69.3</td>\n",
       "    </tr>\n",
       "    <tr>\n",
       "      <th>4</th>\n",
       "      <td>151.5</td>\n",
       "      <td>41.3</td>\n",
       "      <td>58.5</td>\n",
       "    </tr>\n",
       "    <tr>\n",
       "      <th>5</th>\n",
       "      <td>180.8</td>\n",
       "      <td>10.8</td>\n",
       "      <td>58.4</td>\n",
       "    </tr>\n",
       "  </tbody>\n",
       "</table>\n",
       "</div>"
      ],
      "text/plain": [
       "      TV  radio  newspaper\n",
       "1  230.1   37.8       69.2\n",
       "2   44.5   39.3       45.1\n",
       "3   17.2   45.9       69.3\n",
       "4  151.5   41.3       58.5\n",
       "5  180.8   10.8       58.4"
      ]
     },
     "execution_count": 7,
     "metadata": {},
     "output_type": "execute_result"
    }
   ],
   "source": [
    "# create a Python list of feature names\n",
    "feature_cols = ['TV', 'radio', 'newspaper']\n",
    "\n",
    "# use the list to select a subset of the original DataFrame\n",
    "X = pd.DataFrame(data, columns=feature_cols) \n",
    "\n",
    "# equivalent command to do this in one line using double square brackets\n",
    "# inner bracket is a list\n",
    "# outer bracker accesses a subset of the original DataFrame\n",
    "X = data[['TV', 'radio', 'newspaper']]\n",
    "# print the first 5 rows\n",
    "X.head()"
   ]
  },
  {
   "cell_type": "code",
   "execution_count": 8,
   "metadata": {},
   "outputs": [
    {
     "name": "stdout",
     "output_type": "stream",
     "text": [
      "<class 'pandas.core.frame.DataFrame'>\n",
      "(200, 3)\n"
     ]
    }
   ],
   "source": [
    "# check the type and shape of X\n",
    "print(type(X))\n",
    "print(X.shape)"
   ]
  },
  {
   "cell_type": "code",
   "execution_count": 9,
   "metadata": {},
   "outputs": [
    {
     "data": {
      "text/plain": [
       "1    22.1\n",
       "2    10.4\n",
       "3     9.3\n",
       "4    18.5\n",
       "5    12.9\n",
       "Name: sales, dtype: float64"
      ]
     },
     "execution_count": 9,
     "metadata": {},
     "output_type": "execute_result"
    }
   ],
   "source": [
    "# select a Series from the DataFrame\n",
    "y = data['sales']\n",
    "\n",
    "# equivalent command that works if there are no spaces in the column name\n",
    "# you can select the Sales as an attribute of the DataFrame\n",
    "#y = data.Sales (python 2)\n",
    "\n",
    "# print the first 5 values\n",
    "y.head()"
   ]
  },
  {
   "cell_type": "markdown",
   "metadata": {},
   "source": [
    "## Splitting X and y into training and testing sets"
   ]
  },
  {
   "cell_type": "code",
   "execution_count": 10,
   "metadata": {
    "collapsed": true
   },
   "outputs": [],
   "source": [
    "# import  \n",
    "\n",
    "from sklearn.model_selection import train_test_split\n",
    "X_train, X_test, y_train, y_test = train_test_split(X, y, random_state=1)"
   ]
  },
  {
   "cell_type": "code",
   "execution_count": 11,
   "metadata": {},
   "outputs": [
    {
     "name": "stdout",
     "output_type": "stream",
     "text": [
      "(150, 3)\n",
      "(50, 3)\n",
      "(150,)\n",
      "(50,)\n"
     ]
    }
   ],
   "source": [
    "# default split is 75% for training and 25% for testing\n",
    "print(X_train.shape)\n",
    "print(X_test.shape)\n",
    "print(y_train.shape)\n",
    "print(y_test.shape)"
   ]
  },
  {
   "cell_type": "markdown",
   "metadata": {},
   "source": [
    "## Linear Regression"
   ]
  },
  {
   "cell_type": "code",
   "execution_count": 12,
   "metadata": {},
   "outputs": [
    {
     "name": "stdout",
     "output_type": "stream",
     "text": [
      "150\n",
      "resul2\n",
      "1.77755012573\n",
      "[[ 289.7   42.3   51.2    1. ]\n",
      " [ 123.1   34.6   12.4    1. ]\n",
      " [  19.4   16.    22.3    1. ]\n",
      " [ 182.6   46.2   58.7    1. ]\n",
      " [ 265.6   20.     0.3    1. ]\n",
      " [ 165.6   10.    17.6    1. ]\n",
      " [ 218.5    5.4   27.4    1. ]\n",
      " [  25.    11.    29.7    1. ]\n",
      " [ 232.1    8.6    8.7    1. ]\n",
      " [  43.    25.9   20.5    1. ]\n",
      " [ 139.2   14.3   25.6    1. ]\n",
      " [ 139.3   14.5   10.2    1. ]\n",
      " [   5.4   29.9    9.4    1. ]\n",
      " [ 293.6   27.7    1.8    1. ]\n",
      " [ 281.4   39.6   55.8    1. ]\n",
      " [   8.7   48.9   75.     1. ]\n",
      " [  80.2    0.     9.2    1. ]\n",
      " [ 137.9   46.4   59.     1. ]\n",
      " [ 227.2   15.8   49.9    1. ]\n",
      " [  31.5   24.6    2.2    1. ]\n",
      " [ 262.7   28.8   15.9    1. ]\n",
      " [ 213.5   43.    33.8    1. ]\n",
      " [ 287.6   43.    71.8    1. ]\n",
      " [  11.7   36.9   45.2    1. ]\n",
      " [  17.9   37.6   21.6    1. ]\n",
      " [ 209.6   20.6   10.7    1. ]\n",
      " [  23.8   35.1   65.9    1. ]\n",
      " [  76.4    0.8   14.8    1. ]\n",
      " [ 250.9   36.5   72.3    1. ]\n",
      " [ 141.3   26.8   46.2    1. ]\n",
      " [ 187.8   21.1    9.5    1. ]\n",
      " [ 134.3    4.9    9.3    1. ]\n",
      " [ 239.8    4.1   36.9    1. ]\n",
      " [ 224.     2.4   15.6    1. ]\n",
      " [  75.5   10.8    6.     1. ]\n",
      " [  97.5    7.6    7.2    1. ]\n",
      " [  75.3   20.3   32.5    1. ]\n",
      " [   8.4   27.2    2.1    1. ]\n",
      " [ 191.1   28.7   18.2    1. ]\n",
      " [ 175.1   22.5   31.5    1. ]\n",
      " [ 135.2   41.7   45.9    1. ]\n",
      " [ 266.9   43.8    5.     1. ]\n",
      " [  85.7   35.8   49.3    1. ]\n",
      " [ 139.5    2.1   26.6    1. ]\n",
      " [ 171.3   39.7   37.7    1. ]\n",
      " [ 187.9   17.2   17.9    1. ]\n",
      " [  38.2    3.7   13.8    1. ]\n",
      " [ 177.     9.3    6.4    1. ]\n",
      " [  38.    40.3   11.9    1. ]\n",
      " [ 168.4    7.1   12.8    1. ]\n",
      " [  16.9   43.7   89.4    1. ]\n",
      " [ 237.4    5.1   23.5    1. ]\n",
      " [  28.6    1.5   33.     1. ]\n",
      " [ 197.6   23.3   14.2    1. ]\n",
      " [  17.2   45.9   69.3    1. ]\n",
      " [ 199.1   30.6   38.7    1. ]\n",
      " [ 193.2   18.4   65.7    1. ]\n",
      " [ 280.7   13.9   37.     1. ]\n",
      " [  57.5   32.8   23.5    1. ]\n",
      " [ 175.7   15.4    2.4    1. ]\n",
      " [ 230.1   37.8   69.2    1. ]\n",
      " [   4.1   11.6    5.7    1. ]\n",
      " [ 120.5   28.5   14.2    1. ]\n",
      " [  69.     9.3    0.9    1. ]\n",
      " [ 198.9   49.4   60.     1. ]\n",
      " [ 206.8    5.2   19.4    1. ]\n",
      " [  88.3   25.5   73.4    1. ]\n",
      " [   0.7   39.6    8.7    1. ]\n",
      " [  89.7    9.9   35.7    1. ]\n",
      " [ 239.3   15.5   27.3    1. ]\n",
      " [ 213.4   24.6   13.1    1. ]\n",
      " [ 217.7   33.5   59.     1. ]\n",
      " [ 243.2   49.    44.3    1. ]\n",
      " [ 172.5   18.1   30.7    1. ]\n",
      " [ 104.6    5.7   34.4    1. ]\n",
      " [ 110.7   40.6   63.2    1. ]\n",
      " [ 156.6    2.6    8.3    1. ]\n",
      " [ 140.3    1.9    9.     1. ]\n",
      " [ 117.2   14.7    5.4    1. ]\n",
      " [  66.1    5.8   24.2    1. ]\n",
      " [  97.2    1.5   30.     1. ]\n",
      " [  68.4   44.5   35.6    1. ]\n",
      " [  56.2    5.7   29.7    1. ]\n",
      " [ 222.4    4.3   49.8    1. ]\n",
      " [  87.2   11.8   25.9    1. ]\n",
      " [ 228.3   16.9   26.2    1. ]\n",
      " [   7.8   38.9   50.6    1. ]\n",
      " [ 199.8    2.6   21.2    1. ]\n",
      " [  50.    11.6   18.4    1. ]\n",
      " [ 238.2   34.3    5.3    1. ]\n",
      " [ 121.     8.4   48.7    1. ]\n",
      " [  48.3   47.     8.5    1. ]\n",
      " [ 241.7   38.    23.2    1. ]\n",
      " [ 286.    13.9    3.7    1. ]\n",
      " [ 131.1   42.8   28.9    1. ]\n",
      " [ 195.4   47.7   52.9    1. ]\n",
      " [ 177.    33.4   38.7    1. ]\n",
      " [ 163.5   36.8    7.4    1. ]\n",
      " [ 255.4   26.9    5.5    1. ]\n",
      " [  76.4   26.7   22.3    1. ]\n",
      " [ 216.4   41.7   39.6    1. ]\n",
      " [ 142.9   29.3   12.6    1. ]\n",
      " [  27.5    1.6   20.7    1. ]\n",
      " [ 206.9    8.4   26.4    1. ]\n",
      " [  62.3   12.6   18.3    1. ]\n",
      " [ 151.5   41.3   58.5    1. ]\n",
      " [ 284.3   10.6    6.4    1. ]\n",
      " [  66.9   11.7   36.8    1. ]\n",
      " [  44.7   25.8   20.6    1. ]\n",
      " [ 265.2    2.9   43.     1. ]\n",
      " [  39.5   41.1    5.8    1. ]\n",
      " [ 292.9   28.3   43.2    1. ]\n",
      " [  18.8   21.7   50.4    1. ]\n",
      " [  75.1   35.    52.7    1. ]\n",
      " [ 276.9   48.9   41.8    1. ]\n",
      " [   8.6    2.1    1.     1. ]\n",
      " [  53.5    2.    21.4    1. ]\n",
      " [ 220.3   49.     3.2    1. ]\n",
      " [  44.5   39.3   45.1    1. ]\n",
      " [ 136.2   19.2   16.6    1. ]\n",
      " [  13.2   15.9   49.6    1. ]\n",
      " [ 261.3   42.7   54.7    1. ]\n",
      " [ 102.7   29.6    8.4    1. ]\n",
      " [ 120.2   19.6   11.6    1. ]\n",
      " [  94.2    4.9    8.1    1. ]\n",
      " [ 193.7   35.4   75.6    1. ]\n",
      " [  76.3   27.5   16.     1. ]\n",
      " [ 197.6    3.5    5.9    1. ]\n",
      " [ 237.4   27.5   11.     1. ]\n",
      " [ 199.8    3.1   34.6    1. ]\n",
      " [ 220.5   33.2   37.9    1. ]\n",
      " [ 149.8    1.3   24.3    1. ]\n",
      " [  93.9   43.5   50.5    1. ]\n",
      " [ 184.9   43.9    1.7    1. ]\n",
      " [ 240.1    7.3    8.7    1. ]\n",
      " [ 296.4   36.3  100.9    1. ]\n",
      " [ 218.4   27.7   53.4    1. ]\n",
      " [ 276.7    2.3   23.7    1. ]\n",
      " [ 262.9    3.5   19.5    1. ]\n",
      " [  36.9   38.6   65.6    1. ]\n",
      " [ 109.8   14.3   31.7    1. ]\n",
      " [  59.6   12.    43.1    1. ]\n",
      " [  96.2   14.8   38.9    1. ]\n",
      " [  17.2    4.1   31.6    1. ]\n",
      " [ 116.     7.7   23.1    1. ]\n",
      " [ 219.8   33.5   45.1    1. ]\n",
      " [ 273.7   28.9   59.7    1. ]\n",
      " [  26.8   33.    19.3    1. ]\n",
      " [  73.4   17.    12.9    1. ]\n",
      " [  74.7   49.4   45.7    1. ]]\n"
     ]
    }
   ],
   "source": [
    "# import model\n",
    "from sklearn.linear_model import LinearRegression\n",
    "\n",
    "# instantiate\n",
    "linreg = LinearRegression()\n",
    "\n",
    "# fit the model to the training data (learn the coefficients)\n",
    "linreg.fit(X_train, y_train)\n",
    "\n",
    "## Excercise 1 \n",
    "# Try your own linear regression algorithm \n",
    "\n",
    "#tasa de aprendizaje 0. 1 - 1\n",
    "alpha = 0.00001 \n",
    "#print(X_train)\n",
    "#print (y_train)\n",
    "#constante tetha0  wc\n",
    "t1=0.1\n",
    "t2=0.1\n",
    "t3=0.1\n",
    "t0=1\n",
    "mt = [t1,t2,t3,t0]\n",
    "\n",
    "xx_train= np.array(X_train)\n",
    "yy_train = np.array(y_train)\n",
    "tamx = len(xx_train)\n",
    "print (tamx)\n",
    "xx1 = np.ones((tamx,1))\n",
    "#print (x1)\n",
    "xx_train = np.concatenate((xx_train, xx1), axis=1)\n",
    "#print (xx_train)\n",
    "yprima=np.dot(xx_train, mt)\n",
    "# print (yprima)\n",
    "# numero de veces\n",
    "for i in range(0, 10000):\n",
    "#   para cada dato \n",
    "    for j in range (0, 150):\n",
    "        yprima[j]=np.dot(xx_train[j], mt)\n",
    "#         print(yprima [j])\n",
    "        t1=t1+ (alpha*(yy_train[j]-yprima[j]))*xx_train[j][0]\n",
    "    \n",
    "        t2=t2+(alpha*(yy_train[j]-yprima[j]))*xx_train[j][1]\n",
    "        t3=t3+(alpha*(yy_train[j]-yprima[j]))*xx_train[j][2]\n",
    "        t0=t0+(alpha*(yy_train[j]-yprima[j]))*xx_train[j][3]\n",
    "        mt = [t1,t2,t3,t0]\n",
    "        \n",
    "\n",
    "\n",
    "# print ('resul1')\n",
    "# print(np.sqrt(metrics.mean_squared_error(yy_train, yprima)))  \n",
    "\n",
    "# print (t0)\n",
    "# print (t1)\n",
    "# print(t2)\n",
    "# print (t3)\n",
    "\n",
    "mt = [t1,t2,t3,t0]\n",
    "# print(mt)\n",
    "yprima=np.dot(xx_train, mt)\n",
    "# print (yprima)\n",
    "print ('resul2')\n",
    "print(np.sqrt(metrics.mean_squared_error(yy_train, yprima)))\n",
    "\n",
    "xt1 = np.ones((50,1))\n",
    "xx_test =np.concatenate((X_test, xt1), axis=1)\n",
    "yy_prueba=np.dot(xx_test, mt)\n",
    "print (xx_train)"
   ]
  },
  {
   "cell_type": "markdown",
   "metadata": {},
   "source": [
    "## Interpreting model coefficients"
   ]
  },
  {
   "cell_type": "code",
   "execution_count": 13,
   "metadata": {},
   "outputs": [
    {
     "name": "stdout",
     "output_type": "stream",
     "text": [
      "2.87696662232\n",
      "[ 0.04656457  0.17915812  0.00345046]\n"
     ]
    }
   ],
   "source": [
    "# print the intercept and coefficients\n",
    "print(linreg.intercept_)\n",
    "print(linreg.coef_)"
   ]
  },
  {
   "cell_type": "code",
   "execution_count": 14,
   "metadata": {},
   "outputs": [
    {
     "data": {
      "text/plain": [
       "<zip at 0xd342548>"
      ]
     },
     "execution_count": 14,
     "metadata": {},
     "output_type": "execute_result"
    }
   ],
   "source": [
    "# pair the feature names with the coefficients\n",
    "# hard to remember the order, we so we python's zip function to pair the feature names with the coefficients\n",
    "zip(feature_cols, linreg.coef_)"
   ]
  },
  {
   "cell_type": "markdown",
   "metadata": {},
   "source": [
    "$$ y= 2.88 +0.0466 \\times TV+0.179 \\times radio + 0.00345 \\times Newspaper $$\n",
    "How do we interpret the TV coefficient (0.0466)?\n",
    "For a given amount of Radio and Newspaper ad spending, a \"unit\" increase in TV ad spending is associated with a 0.0466 \"unit\" increase in Sales.\n",
    "Or more clearly: For a given amount of Radio and Newspaper ad spending, an additional $1,000 spent on TV ads is associated with an increase in sales of 46.6 items.\n"
   ]
  },
  {
   "cell_type": "markdown",
   "metadata": {},
   "source": [
    "## Making Predictions"
   ]
  },
  {
   "cell_type": "code",
   "execution_count": 15,
   "metadata": {
    "collapsed": true
   },
   "outputs": [],
   "source": [
    "# make predictions on the testing set\n",
    "y_pred = linreg.predict(X_test)"
   ]
  },
  {
   "cell_type": "markdown",
   "metadata": {},
   "source": [
    "We need an evaluation metric in order to compare our predictions with the actual values."
   ]
  },
  {
   "cell_type": "markdown",
   "metadata": {},
   "source": [
    "## 4. Model evaluation metrics for regression"
   ]
  },
  {
   "cell_type": "markdown",
   "metadata": {},
   "source": [
    "we need evaluation metrics designed for comparing continuous values.\n",
    "Let's create some example numeric predictions, and calculate three common evaluation metrics for regression problems:\n"
   ]
  },
  {
   "cell_type": "code",
   "execution_count": 16,
   "metadata": {
    "collapsed": true
   },
   "outputs": [],
   "source": [
    "# define true and predicted response values\n",
    "true = [100, 50, 30, 20]\n",
    "pred = [90, 50, 50, 30]"
   ]
  },
  {
   "cell_type": "markdown",
   "metadata": {},
   "source": [
    "**Mean Absolute Error (MAE)** is the mean of the absolute value of the errors:\n",
    "    $$\\frac{1}{m}\\sum_{i=1}^{m}|y^{(i)}-y'^{(i)}|$$"
   ]
  },
  {
   "cell_type": "code",
   "execution_count": 17,
   "metadata": {},
   "outputs": [
    {
     "name": "stdout",
     "output_type": "stream",
     "text": [
      "10.0\n",
      "10.0\n"
     ]
    }
   ],
   "source": [
    "# calculate MAE by hand\n",
    "print((10 + 0 + 20 + 10) / 4)\n",
    "\n",
    "# calculate MAE using scikit-learn\n",
    "from sklearn import metrics\n",
    "print(metrics.mean_absolute_error(true, pred))"
   ]
  },
  {
   "cell_type": "markdown",
   "metadata": {},
   "source": [
    "**Mean Squared Error (MSE)** is the mean of the squared errors:\n",
    "    $$\\frac{1}{m}\\sum_{i=1}^{m}(y^{(i)}-y'^{(i)})^2$$\n",
    "    "
   ]
  },
  {
   "cell_type": "code",
   "execution_count": 18,
   "metadata": {},
   "outputs": [
    {
     "name": "stdout",
     "output_type": "stream",
     "text": [
      "150.0\n",
      "150.0\n"
     ]
    }
   ],
   "source": [
    "# calculate MSE by hand\n",
    "import numpy as np\n",
    "print((10**2 + 0**2 + 20**2 + 10**2) / 4)\n",
    "\n",
    "# calculate MSE using scikit-learn\n",
    "print(metrics.mean_squared_error(true, pred))"
   ]
  },
  {
   "cell_type": "markdown",
   "metadata": {},
   "source": [
    "**Root Mean Squared Error (RMSE)** is the square root of the mean of the squared errors:\n",
    "     $$\\sqrt{\\frac{1}{m}\\sum_{i=1}^{m}(y^{(i)}-y'^{(i)})^2}$$\n",
    "    "
   ]
  },
  {
   "cell_type": "code",
   "execution_count": 19,
   "metadata": {},
   "outputs": [
    {
     "name": "stdout",
     "output_type": "stream",
     "text": [
      "12.2474487139\n",
      "12.2474487139\n"
     ]
    }
   ],
   "source": [
    "# calculate RMSE by hand\n",
    "import numpy as np\n",
    "print(np.sqrt(((10**2 + 0**2 + 20**2 + 10**2) / 4)))\n",
    "\n",
    "# calculate RMSE using scikit-learn\n",
    "print(np.sqrt(metrics.mean_squared_error(true, pred)))"
   ]
  },
  {
   "cell_type": "markdown",
   "metadata": {},
   "source": [
    "Comparing these metrics:\n",
    "- MAE is the easiest to understand, because it's the average error.\n",
    "- MSE is more popular than MAE, because MSE \"punishes\" larger errors.\n",
    "- RMSE is even more popular than MSE, because RMSE is interpretable in the \"y\" units. Easier to put in context as it's the same units as our response variable"
   ]
  },
  {
   "cell_type": "markdown",
   "metadata": {},
   "source": [
    "## Computing the RMSE for our Sales predictions"
   ]
  },
  {
   "cell_type": "code",
   "execution_count": 20,
   "metadata": {},
   "outputs": [
    {
     "name": "stdout",
     "output_type": "stream",
     "text": [
      "1.40465142303\n",
      "1.42834964172\n"
     ]
    }
   ],
   "source": [
    "print(np.sqrt(metrics.mean_squared_error(y_test, y_pred)))\n",
    "print(np.sqrt(metrics.mean_squared_error(y_test, yy_prueba)))"
   ]
  },
  {
   "cell_type": "markdown",
   "metadata": {},
   "source": [
    "## Feature selection"
   ]
  },
  {
   "cell_type": "markdown",
   "metadata": {},
   "source": [
    "Does Newspaper \"belong\" in our model? In other words, does it improve the quality of our predictions?\n",
    "Let's remove it from the model and check the RMSE!"
   ]
  },
  {
   "cell_type": "code",
   "execution_count": 21,
   "metadata": {},
   "outputs": [
    {
     "name": "stdout",
     "output_type": "stream",
     "text": [
      "1.38790346994\n"
     ]
    }
   ],
   "source": [
    "# create a Python list of feature names\n",
    "feature_cols = ['TV', 'radio']\n",
    "\n",
    "# use the list to select a subset of the original DataFrame\n",
    "X = data[feature_cols]\n",
    "\n",
    "# select a Series from the DataFrame\n",
    "y = data.sales\n",
    "\n",
    "# split into training and testing sets\n",
    "X_train, X_test, y_train, y_test = train_test_split(X, y, random_state=1)\n",
    "\n",
    "# fit the model to the training data (learn the coefficients)\n",
    "linreg.fit(X_train, y_train)\n",
    "\n",
    "# make predictions on the testing set\n",
    "y_pred = linreg.predict(X_test)\n",
    "\n",
    "# compute the RMSE of our predictions\n",
    "print(np.sqrt(metrics.mean_squared_error(y_test, y_pred)))"
   ]
  },
  {
   "cell_type": "markdown",
   "metadata": {},
   "source": [
    "The RMSE decreased when we removed Newspaper from the model. (Error is something we want to minimize, so a lower number for RMSE is better.) Thus, it is unlikely that this feature is useful for predicting Sales, and should be removed from the model."
   ]
  },
  {
   "cell_type": "code",
   "execution_count": 22,
   "metadata": {},
   "outputs": [
    {
     "name": "stdout",
     "output_type": "stream",
     "text": [
      "[[  17.02057578  289.7          42.3          51.2           1.        ]\n",
      " [  11.09504394  123.1          34.6          12.4           1.        ]\n",
      " [   4.40454311   19.4          16.           22.3           1.        ]\n",
      " [  13.51295675  182.6          46.2          58.7           1.        ]\n",
      " [  16.29723903  265.6          20.            0.3           1.        ]\n",
      " [  12.86856635  165.6          10.           17.6           1.        ]\n",
      " [  14.7817455   218.5           5.4          27.4           1.        ]\n",
      " [   5.           25.           11.           29.7           1.        ]\n",
      " [  15.23482852  232.1           8.6           8.7           1.        ]\n",
      " [   6.55743852   43.           25.9          20.5           1.        ]\n",
      " [  11.79830496  139.2          14.3          25.6           1.        ]\n",
      " [  11.8025421   139.3          14.5          10.2           1.        ]\n",
      " [   2.32379001    5.4          29.9           9.4           1.        ]\n",
      " [  17.13475999  293.6          27.7           1.8           1.        ]\n",
      " [  16.77498137  281.4          39.6          55.8           1.        ]\n",
      " [   2.94957624    8.7          48.9          75.            1.        ]\n",
      " [   8.95544527   80.2           0.            9.2           1.        ]\n",
      " [  11.74308307  137.9          46.4          59.            1.        ]\n",
      " [  15.07315495  227.2          15.8          49.9           1.        ]\n",
      " [   5.61248608   31.5          24.6           2.2           1.        ]\n",
      " [  16.2080227   262.7          28.8          15.9           1.        ]\n",
      " [  14.6116392   213.5          43.           33.8           1.        ]\n",
      " [  16.95877354  287.6          43.           71.8           1.        ]\n",
      " [   3.42052628   11.7          36.9          45.2           1.        ]\n",
      " [   4.23083916   17.9          37.6          21.6           1.        ]\n",
      " [  14.47756886  209.6          20.6          10.7           1.        ]\n",
      " [   4.87852437   23.8          35.1          65.9           1.        ]\n",
      " [   8.74070935   76.4           0.8          14.8           1.        ]\n",
      " [  15.83982323  250.9          36.5          72.3           1.        ]\n",
      " [  11.88696765  141.3          26.8          46.2           1.        ]\n",
      " [  13.70401401  187.8          21.1           9.5           1.        ]\n",
      " [  11.58878768  134.3           4.9           9.3           1.        ]\n",
      " [  15.48547707  239.8           4.1          36.9           1.        ]\n",
      " [  14.96662955  224.            2.4          15.6           1.        ]\n",
      " [   8.6890736    75.5          10.8           6.            1.        ]\n",
      " [   9.87420883   97.5           7.6           7.2           1.        ]\n",
      " [   8.67755726   75.3          20.3          32.5           1.        ]\n",
      " [   2.89827535    8.4          27.2           2.1           1.        ]\n",
      " [  13.82389236  191.1          28.7          18.2           1.        ]\n",
      " [  13.23253566  175.1          22.5          31.5           1.        ]\n",
      " [  11.62755348  135.2          41.7          45.9           1.        ]\n",
      " [  16.3370744   266.9          43.8           5.            1.        ]\n",
      " [   9.25742945   85.7          35.8          49.3           1.        ]\n",
      " [  11.81101181  139.5           2.1          26.6           1.        ]\n",
      " [  13.08816259  171.3          39.7          37.7           1.        ]\n",
      " [  13.70766209  187.9          17.2          17.9           1.        ]\n",
      " [   6.18061486   38.2           3.7          13.8           1.        ]\n",
      " [  13.3041347   177.            9.3           6.4           1.        ]\n",
      " [   6.164414     38.           40.3          11.9           1.        ]\n",
      " [  12.97690256  168.4           7.1          12.8           1.        ]\n",
      " [   4.11096096   16.9          43.7          89.4           1.        ]\n",
      " [  15.40779024  237.4           5.1          23.5           1.        ]\n",
      " [   5.34789678   28.6           1.5          33.            1.        ]\n",
      " [  14.05702671  197.6          23.3          14.2           1.        ]\n",
      " [   4.14728827   17.2          45.9          69.3           1.        ]\n",
      " [  14.11027994  199.1          30.6          38.7           1.        ]\n",
      " [  13.89964028  193.2          18.4          65.7           1.        ]\n",
      " [  16.75410397  280.7          13.9          37.            1.        ]\n",
      " [   7.58287544   57.5          32.8          23.5           1.        ]\n",
      " [  13.25518766  175.7          15.4           2.4           1.        ]\n",
      " [  15.16904743  230.1          37.8          69.2           1.        ]\n",
      " [   2.02484567    4.1          11.6           5.7           1.        ]\n",
      " [  10.9772492   120.5          28.5          14.2           1.        ]\n",
      " [   8.30662386   69.            9.3           0.9           1.        ]\n",
      " [  14.10319113  198.9          49.4          60.            1.        ]\n",
      " [  14.38054241  206.8           5.2          19.4           1.        ]\n",
      " [   9.39680797   88.3          25.5          73.4           1.        ]\n",
      " [   0.83666003    0.7          39.6           8.7           1.        ]\n",
      " [   9.47100839   89.7           9.9          35.7           1.        ]\n",
      " [  15.46932448  239.3          15.5          27.3           1.        ]\n",
      " [  14.60821687  213.4          24.6          13.1           1.        ]\n",
      " [  14.75466028  217.7          33.5          59.            1.        ]\n",
      " [  15.59487095  243.2          49.           44.3           1.        ]\n",
      " [  13.13392554  172.5          18.1          30.7           1.        ]\n",
      " [  10.22741414  104.6           5.7          34.4           1.        ]\n",
      " [  10.52140675  110.7          40.6          63.2           1.        ]\n",
      " [  12.51399217  156.6           2.6           8.3           1.        ]\n",
      " [  11.8448301   140.3           1.9           9.            1.        ]\n",
      " [  10.82589488  117.2          14.7           5.4           1.        ]\n",
      " [   8.13019065   66.1           5.8          24.2           1.        ]\n",
      " [   9.85900604   97.2           1.5          30.            1.        ]\n",
      " [   8.27042925   68.4          44.5          35.6           1.        ]\n",
      " [   7.49666593   56.2           5.7          29.7           1.        ]\n",
      " [  14.91308151  222.4           4.3          49.8           1.        ]\n",
      " [   9.33809402   87.2          11.8          25.9           1.        ]\n",
      " [  15.1095996   228.3          16.9          26.2           1.        ]\n",
      " [   2.79284801    7.8          38.9          50.6           1.        ]\n",
      " [  14.13506279  199.8           2.6          21.2           1.        ]\n",
      " [   7.07106781   50.           11.6          18.4           1.        ]\n",
      " [  15.4337293   238.2          34.3           5.3           1.        ]\n",
      " [  11.          121.            8.4          48.7           1.        ]\n",
      " [   6.94982014   48.3          47.            8.5           1.        ]\n",
      " [  15.54670383  241.7          38.           23.2           1.        ]\n",
      " [  16.91153453  286.           13.9           3.7           1.        ]\n",
      " [  11.44989083  131.1          42.8          28.9           1.        ]\n",
      " [  13.978555    195.4          47.7          52.9           1.        ]\n",
      " [  13.3041347   177.           33.4          38.7           1.        ]\n",
      " [  12.78671185  163.5          36.8           7.4           1.        ]\n",
      " [  15.981239    255.4          26.9           5.5           1.        ]\n",
      " [   8.74070935   76.4          26.7          22.3           1.        ]\n",
      " [  14.71054044  216.4          41.7          39.6           1.        ]\n",
      " [  11.9540788   142.9          29.3          12.6           1.        ]\n",
      " [   5.24404424   27.5           1.6          20.7           1.        ]\n",
      " [  14.38401891  206.9           8.4          26.4           1.        ]\n",
      " [   7.8930349    62.3          12.6          18.3           1.        ]\n",
      " [  12.30853363  151.5          41.3          58.5           1.        ]\n",
      " [  16.86119806  284.3          10.6           6.4           1.        ]\n",
      " [   8.17924202   66.9          11.7          36.8           1.        ]\n",
      " [   6.68580586   44.7          25.8          20.6           1.        ]\n",
      " [  16.28496239  265.2           2.9          43.            1.        ]\n",
      " [   6.28490254   39.5          41.1           5.8           1.        ]\n",
      " [  17.11432149  292.9          28.3          43.2           1.        ]\n",
      " [   4.33589668   18.8          21.7          50.4           1.        ]\n",
      " [   8.66602562   75.1          35.           52.7           1.        ]\n",
      " [  16.6403125   276.9          48.9          41.8           1.        ]\n",
      " [   2.93257566    8.6           2.1           1.            1.        ]\n",
      " [   7.31436942   53.5           2.           21.4           1.        ]\n",
      " [  14.84250653  220.3          49.            3.2           1.        ]\n",
      " [   6.67083203   44.5          39.3          45.1           1.        ]\n",
      " [  11.67047557  136.2          19.2          16.6           1.        ]\n",
      " [   3.63318042   13.2          15.9          49.6           1.        ]\n",
      " [  16.16477652  261.3          42.7          54.7           1.        ]\n",
      " [  10.13410085  102.7          29.6           8.4           1.        ]\n",
      " [  10.96357606  120.2          19.6          11.6           1.        ]\n",
      " [   9.70566845   94.2           4.9           8.1           1.        ]\n",
      " [  13.91761474  193.7          35.4          75.6           1.        ]\n",
      " [   8.73498712   76.3          27.5          16.            1.        ]\n",
      " [  14.05702671  197.6           3.5           5.9           1.        ]\n",
      " [  15.40779024  237.4          27.5          11.            1.        ]\n",
      " [  14.13506279  199.8           3.1          34.6           1.        ]\n",
      " [  14.8492424   220.5          33.2          37.9           1.        ]\n",
      " [  12.23928102  149.8           1.3          24.3           1.        ]\n",
      " [   9.69020124   93.9          43.5          50.5           1.        ]\n",
      " [  13.59779394  184.9          43.9           1.7           1.        ]\n",
      " [  15.49516053  240.1           7.3           8.7           1.        ]\n",
      " [  17.21627137  296.4          36.3         100.9           1.        ]\n",
      " [  14.77836256  218.4          27.7          53.4           1.        ]\n",
      " [  16.63430191  276.7           2.3          23.7           1.        ]\n",
      " [  16.21419132  262.9           3.5          19.5           1.        ]\n",
      " [   6.07453702   36.9          38.6          65.6           1.        ]\n",
      " [  10.47854952  109.8          14.3          31.7           1.        ]\n",
      " [   7.72010363   59.6          12.           43.1           1.        ]\n",
      " [   9.80815987   96.2          14.8          38.9           1.        ]\n",
      " [   4.14728827   17.2           4.1          31.6           1.        ]\n",
      " [  10.77032961  116.            7.7          23.1           1.        ]\n",
      " [  14.82565344  219.8          33.5          45.1           1.        ]\n",
      " [  16.54388104  273.7          28.9          59.7           1.        ]\n",
      " [   5.17687164   26.8          33.           19.3           1.        ]\n",
      " [   8.56738      73.4          17.           12.9           1.        ]\n",
      " [   8.64291617   74.7          49.4          45.7           1.        ]]\n",
      "[ 41.02205758  19.11950439   7.21045431  31.10129567  31.2197239\n",
      "  21.60685664  27.60817455   8.07        27.46348285  10.59574385\n",
      "  20.0898305   18.58025421   5.702379    35.023476    40.35749814\n",
      "  14.55495762  10.83554453  26.50430831  31.79731549   7.39124861\n",
      "  33.36080227  31.49116392  42.93587735  10.72205263   9.13308392\n",
      "  26.53775689  13.96785244  11.07407094  38.55398232  23.61869677\n",
      "  24.2104014   17.00887877  30.62854771  26.69666295  11.09890736\n",
      "  13.21742088  14.67775573   5.05982753  26.18238924  25.23325357\n",
      "  24.44275535  34.20370744  19.00574294  19.00110118  27.17881626\n",
      "  24.67076621   7.18806149  21.60041347  10.6364414   21.12769026\n",
      "  16.4110961   29.14077902   7.84478968  25.91570267  14.65472883\n",
      "  29.25102799  30.11996403  35.8354104   13.13828754  21.67551877\n",
      "  36.22690474   3.34248457  18.41772492   9.75066239  33.24031911\n",
      "  25.57805424  20.6596808    5.983666    15.47710084  30.75693245\n",
      "  27.57082169  33.49546603  36.2094871   24.44339255  16.49274141\n",
      "  23.50214068  19.00139922  17.30448301  15.81258949  11.42301906\n",
      "  14.8559006   16.67704293  10.90966659  30.14130815  14.4238094\n",
      "  29.65095996  11.0092848   24.77350628   9.70710678  30.32337293  19.91\n",
      "  12.07498201  32.84467038  33.05115345  22.42498908  31.9978555\n",
      "  27.24041347  23.04867119  31.3781239   14.41407094  32.24105404\n",
      "  20.67540788   6.50440442  26.60840189  11.10930349  27.36085336\n",
      "  32.81611981  13.3579242   10.77858059  33.73849624  10.26849025\n",
      "  39.15143215  10.52358967  18.14660256  39.42403125   2.46325757\n",
      "   9.42143694  29.73425065  14.5570832   19.36704756   9.23331804\n",
      "  38.48647765  16.08341008  17.23635761  12.69056684  32.86176147\n",
      "  13.85349871  23.10570267  30.13077902  26.16350628  31.64492424\n",
      "  19.7639281   20.75902012  25.40977939  28.15951605  46.08162714\n",
      "  32.42783626  32.93343019  31.21141913  15.7174537   17.62785495\n",
      "  13.24201036  16.97081599   6.70472883  16.75703296  32.32256534\n",
      "  38.8843881    9.42768716  12.186738    18.84429162]\n"
     ]
    },
    {
     "name": "stdout",
     "output_type": "stream",
     "text": [
      "resul2s\n",
      "[ 25.11113789  12.59176563   6.11155686  21.51371606  16.00933126\n",
      "  11.91006448  14.72468508   6.5130947   13.86889476   8.4353624\n",
      "  12.05190701  10.52850854   5.78652732  18.41625354  24.85304489\n",
      "  15.06798988   5.77086445  19.50764635  18.73357734   5.83498182\n",
      "  18.58910963  19.99936497  27.18564741  10.68949976   8.74864184\n",
      "  14.59774547  13.21473667   6.25665137  24.74129649  15.84247581\n",
      "  13.54567937   8.96530387  16.48216913  13.39658316   6.61699293\n",
      "   7.37526656  10.50825766   4.89122509  15.5561557   15.36398163\n",
      "  17.45325266  19.6162359   14.70420355  10.59098674  18.0365058\n",
      "  13.89410082   4.64937548  11.21369391   9.17476448  11.1800627\n",
      "  16.32238142  15.1504991    5.80838254  14.75221078  14.59503284\n",
      "  18.2356603   19.1146448   19.60516844  10.34931877  11.53827987\n",
      "  23.65413578   2.96156175  11.86388086   5.59462346  22.80393168\n",
      "  13.35890917  15.92964015   6.60458461  10.17748504  16.96329248\n",
      "  15.52961305  21.50617281  23.18212949  14.59549931  10.21008109\n",
      "  17.91107946   9.60089802   8.8264467    9.03895625   7.35279124\n",
      "   8.87371511  13.61324044   7.41075438  17.02009812   9.31488351\n",
      "  16.53424189  11.25916929  12.88536694   6.72619313  17.1218378\n",
      "  12.77224527  10.21501113  19.56442637  16.48373693  15.68912871\n",
      "  21.70807374  17.58555833  14.24563525  16.9646098   10.35865957\n",
      "  20.54866665  12.84934258   4.52264071  14.48308764   7.45063929\n",
      "  19.4289493   16.25343592   9.42506396   8.5178781   18.09111318\n",
      "   8.73871605  22.63958157   9.65032452  14.43547774  24.43894712\n",
      "   1.55052581   5.96228457  17.99611868  12.72359033  11.63725809\n",
      "   8.50765562  24.23618887  10.58388363  10.43796862   6.96081422\n",
      "  22.33214945   9.82149852  11.35735937  16.78242647  14.30202041\n",
      "  19.46574387  10.7330778   16.21035596  15.57069245  14.0636654\n",
      "  29.65217037  20.22383669  16.58476038  15.69362715  14.31758258\n",
      "  11.29344513   9.74344982  11.4421576    5.39216644   9.86450988\n",
      "  20.19915299  23.51767031   8.40024962   8.01275772  15.56980158]\n",
      "resul2d\n",
      "[ 25.4  15.2   6.6  21.2  17.4  12.6  12.2   7.2  13.4   9.6  12.2  13.4\n",
      "   5.3  20.7  24.4   7.2   8.8  19.2  14.8   9.5  20.2  21.7  26.2   7.3\n",
      "   8.   15.9   9.2   9.4  22.2  15.5  15.6  11.2  12.3  11.6   9.9   9.7\n",
      "  11.3   5.7  17.3  14.9  17.2  25.4  13.3  10.3  19.   14.7   7.6  12.8\n",
      "  10.9  11.7   8.7  12.5   7.3  16.6   9.3  18.3  15.2  16.1  11.8  14.1\n",
      "  22.1   3.2  14.2   9.3  23.7  12.2  12.9   1.6  10.6  15.7  17.   19.4\n",
      "  25.4  14.4  10.4  16.   10.5  10.3  11.9   8.6   9.6  13.6   8.7  11.7\n",
      "  10.6  15.5   6.6  10.6   8.4  20.7  11.6  11.6  21.8  15.9  18.   22.4\n",
      "  17.1  18.   19.8  11.8  22.6  15.    6.9  12.9   9.7  18.5  15.    9.7\n",
      "  10.1  12.7  10.8  21.4   7.   12.6  27.    4.8   8.1  24.7  10.4  13.2\n",
      "   5.6  24.2  14.   13.2   9.7  19.2  12.   11.7  18.9  11.4  20.1  10.1\n",
      "  15.3  20.7  13.2  23.8  18.   11.8  12.   10.8  12.4   9.7  11.4   5.9\n",
      "  11.   19.6  20.8   8.8  10.9  14.7]\n",
      "resul2f\n",
      "[0.11324714277485411, 0.041649640284881474, 0.12916025987800289, 0.10090099562734088, 0.48809555178509478]\n",
      "resul2g\n",
      "resul2gw\n",
      "2.54399934961\n",
      "2.89340549925\n"
     ]
    }
   ],
   "source": [
    "## Excercise 2, try nonlinear features and measure the RMSE\n",
    "#print (xx_train)\n",
    "\n",
    "\n",
    "# print ('jsdkljsdl')\n",
    "x2_train= xx_train*1\n",
    "# print (x2_train)\n",
    "xx2 = np.ones((150,1))\n",
    "for k in range (0,150):\n",
    "    xx2[k]=np.sqrt(x2_train[k][0])\n",
    "    \n",
    "#     print(x2_train[k][0])\n",
    "\n",
    "\n",
    "x2_train = np.concatenate((xx2,x2_train), axis=1)\n",
    "#print (x2_train)\n",
    "# print (x2_train)\n",
    "#constante tetha0  wc\n",
    "t1=0.1\n",
    "t2=0.1\n",
    "t3=0.1\n",
    "t4=0.1\n",
    "t0=1\n",
    "mt2 = [t1,t2,t3,t4,t0]\n",
    "\n",
    "print (x2_train)\n",
    "alpha=0.00000001\n",
    "y2prima=np.dot(x2_train, mt2)\n",
    "print (y2prima)\n",
    "for i in range(0, 10000):\n",
    "#   para cada dato \n",
    "    for j in range (0, 150):\n",
    "        y2prima[j]=np.dot(x2_train[j], mt2)\n",
    "#         print(yprima [j])\n",
    "        t1=t1+ (alpha*(yy_train[j]-y2prima[j]))*x2_train[j][0]\n",
    "         \n",
    "        t2=t2+(alpha*(yy_train[j]-y2prima[j]))*x2_train[j][1]\n",
    "        t3=t3+(alpha*(yy_train[j]-y2prima[j]))*x2_train[j][2]\n",
    "        t0=t0+(alpha*(yy_train[j]-y2prima[j]))*x2_train[j][3]\n",
    "        t4=t4+ (alpha*(yy_train[j]-y2prima[j]))*x2_train[j][4]\n",
    "        mt2 = [t1,t2,t3,t4,t0]\n",
    "        \n",
    "\n",
    "y2prima=np.dot(x2_train, mt2)\n",
    "print ('resul2s')\n",
    "print (y2prima)\n",
    "print ('resul2d')\n",
    "print (yy_train)\n",
    "print ('resul2f')\n",
    "print (mt2)\n",
    "print ('resul2g')\n",
    "# print(xx_test)\n",
    "print ('resul2gw')\n",
    "print(np.sqrt(metrics.mean_squared_error(yy_train, y2prima)))\n",
    "\n",
    "# print (x2_train)\n",
    "xx2 = np.ones((50,1))\n",
    "for k in range (0,50):\n",
    "    xx2[k]=np.sqrt(xx_test[k][0])\n",
    "    \n",
    "#     print(x2_train[k][0])\n",
    "xx_test = np.concatenate((xx2,xx_test), axis=1)\n",
    "yy_prueba=np.dot(xx_test, mt2)\n",
    "\n",
    "print(np.sqrt(metrics.mean_squared_error(y_test, yy_prueba)))"
   ]
  },
  {
   "cell_type": "code",
   "execution_count": 30,
   "metadata": {},
   "outputs": [
    {
     "name": "stdout",
     "output_type": "stream",
     "text": [
      "[[ 210.8   49.6   37.7    1. ]\n",
      " [ 202.5   22.3   31.6    1. ]\n",
      " [  95.7    1.4    7.4    1. ]\n",
      " [ 280.2   10.1   21.4    1. ]\n",
      " [ 253.8   21.3   30.     1. ]\n",
      " [ 283.6   42.    66.2    1. ]\n",
      " [ 163.3   31.6   52.9    1. ]\n",
      " [ 180.8   10.8   58.4    1. ]\n",
      " [  70.6   16.    40.8    1. ]\n",
      " [ 215.4   23.6   57.6    1. ]\n",
      " [ 164.5   20.9   47.4    1. ]\n",
      " [  69.2   20.5   18.3    1. ]\n",
      " [ 214.7   24.     4.     1. ]\n",
      " [ 109.8   47.8   51.4    1. ]\n",
      " [ 225.8    8.2   56.5    1. ]\n",
      " [ 125.7   36.9   79.2    1. ]\n",
      " [ 131.7   18.4   34.6    1. ]\n",
      " [ 290.7    4.1    8.5    1. ]\n",
      " [  25.6   39.     9.3    1. ]\n",
      " [ 210.7   29.5    9.3    1. ]\n",
      " [ 100.4    9.6    3.6    1. ]\n",
      " [  67.8   36.6  114.     1. ]\n",
      " [  25.1   25.7   43.3    1. ]\n",
      " [ 107.4   14.    10.9    1. ]\n",
      " [ 112.9   17.4   38.6    1. ]\n",
      " [ 188.4   18.1   25.6    1. ]\n",
      " [  43.1   26.7   35.1    1. ]\n",
      " [ 248.8   27.1   22.9    1. ]\n",
      " [ 166.8   42.     3.6    1. ]\n",
      " [ 240.1   16.7   22.9    1. ]\n",
      " [ 239.9   41.5   18.5    1. ]\n",
      " [ 234.5    3.4   84.8    1. ]\n",
      " [ 149.7   35.6    6.     1. ]\n",
      " [ 170.2    7.8   35.2    1. ]\n",
      " [ 248.4   30.2   20.3    1. ]\n",
      " [ 184.9   21.    22.     1. ]\n",
      " [ 222.4    3.4   13.1    1. ]\n",
      " [ 129.4    5.7   31.3    1. ]\n",
      " [ 216.8   43.9   27.2    1. ]\n",
      " [  19.6   20.1   17.     1. ]\n",
      " [  13.1    0.4   25.6    1. ]\n",
      " [  90.4    0.3   23.2    1. ]\n",
      " [  18.7   12.1   23.4    1. ]\n",
      " [ 204.1   32.9   46.     1. ]\n",
      " [   7.3   28.1   41.4    1. ]\n",
      " [ 147.3   23.9   19.1    1. ]\n",
      " [  78.2   46.8   34.5    1. ]\n",
      " [ 228.    37.7   32.     1. ]\n",
      " [ 205.    45.1   19.6    1. ]\n",
      " [ 229.5   32.3   74.2    1. ]]\n"
     ]
    }
   ],
   "source": [
    "# print(xx_test)"
   ]
  },
  {
   "cell_type": "code",
   "execution_count": null,
   "metadata": {
    "collapsed": true
   },
   "outputs": [],
   "source": []
  }
 ],
 "metadata": {
  "kernelspec": {
   "display_name": "Python 3",
   "language": "python",
   "name": "python3"
  },
  "language_info": {
   "codemirror_mode": {
    "name": "ipython",
    "version": 3
   },
   "file_extension": ".py",
   "mimetype": "text/x-python",
   "name": "python",
   "nbconvert_exporter": "python",
   "pygments_lexer": "ipython3",
   "version": "3.6.3"
  }
 },
 "nbformat": 4,
 "nbformat_minor": 2
}
